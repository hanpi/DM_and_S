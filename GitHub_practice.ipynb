{
  "nbformat": 4,
  "nbformat_minor": 0,
  "metadata": {
    "colab": {
      "provenance": [],
      "authorship_tag": "ABX9TyNVARV7Uh2iLehrYrJ3cPrq",
      "include_colab_link": true
    },
    "kernelspec": {
      "name": "python3",
      "display_name": "Python 3"
    },
    "language_info": {
      "name": "python"
    }
  },
  "cells": [
    {
      "cell_type": "markdown",
      "metadata": {
        "id": "view-in-github",
        "colab_type": "text"
      },
      "source": [
        "<a href=\"https://colab.research.google.com/github/hanpi/DM_and_S/blob/main/GitHub_practice.ipynb\" target=\"_parent\"><img src=\"https://colab.research.google.com/assets/colab-badge.svg\" alt=\"Open In Colab\"/></a>"
      ]
    },
    {
      "cell_type": "code",
      "execution_count": null,
      "metadata": {
        "id": "0SMNczE9RsBG"
      },
      "outputs": [],
      "source": []
    },
    {
      "cell_type": "markdown",
      "source": [
        "Github practice"
      ],
      "metadata": {
        "id": "f31x4Ty2Rs-I"
      }
    },
    {
      "cell_type": "code",
      "source": [
        "print\"Hello Hannah\""
      ],
      "metadata": {
        "id": "uwE7ra9_Ruvw"
      },
      "execution_count": null,
      "outputs": []
    }
  ]
}